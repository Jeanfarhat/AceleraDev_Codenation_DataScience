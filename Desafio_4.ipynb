{
 "cells": [
  {
   "cell_type": "markdown",
   "metadata": {},
   "source": [
    "# Desafio 4\n",
    "\n",
    "Neste desafio, vamos praticar um pouco sobre testes de hipóteses. Utilizaremos o _data set_ [2016 Olympics in Rio de Janeiro](https://www.kaggle.com/rio2016/olympic-games/), que contém dados sobre os atletas das Olimpíadas de 2016 no Rio de Janeiro.\n",
    "\n",
    "Esse _data set_ conta com informações gerais sobre 11538 atletas como nome, nacionalidade, altura, peso e esporte praticado. Estaremos especialmente interessados nas variáveis numéricas altura (`height`) e peso (`weight`). As análises feitas aqui são parte de uma Análise Exploratória de Dados (EDA).\n",
    "\n",
    "> Obs.: Por favor, não modifique o nome das funções de resposta."
   ]
  },
  {
   "cell_type": "markdown",
   "metadata": {},
   "source": [
    "## _Setup_ geral"
   ]
  },
  {
   "cell_type": "code",
   "execution_count": 246,
   "metadata": {},
   "outputs": [],
   "source": [
    "import pandas as pd\n",
    "import matplotlib.pyplot as plt\n",
    "import numpy as np\n",
    "import scipy.stats as sct\n",
    "import seaborn as sns\n",
    "import random"
   ]
  },
  {
   "cell_type": "code",
   "execution_count": 247,
   "metadata": {},
   "outputs": [],
   "source": [
    "#%matplotlib inline\n",
    "\n",
    "from IPython.core.pylabtools import figsize\n",
    "\n",
    "\n",
    "figsize(12, 8)\n",
    "\n",
    "sns.set()"
   ]
  },
  {
   "cell_type": "code",
   "execution_count": 248,
   "metadata": {},
   "outputs": [],
   "source": [
    "athletes = pd.read_csv(\"athletes.csv\")"
   ]
  },
  {
   "cell_type": "code",
   "execution_count": 249,
   "metadata": {},
   "outputs": [],
   "source": [
    "def get_sample(df, col_name, n=100, seed=42):\n",
    "    \"\"\"Get a sample from a column of a dataframe.\n",
    "    \n",
    "    It drops any numpy.nan entries before sampling. The sampling\n",
    "    is performed without replacement.\n",
    "    \n",
    "    Example of numpydoc for those who haven't seen yet.\n",
    "    \n",
    "    Parameters\n",
    "    ----------\n",
    "    df : pandas.DataFrame\n",
    "        Source dataframe.\n",
    "    col_name : str\n",
    "        Name of the column to be sampled.\n",
    "    n : int\n",
    "        Sample size. Default is 100.\n",
    "    seed : int\n",
    "        Random seed. Default is 42.\n",
    "    \n",
    "    Returns\n",
    "    -------\n",
    "    pandas.Series\n",
    "        Sample of size n from dataframe's column.\n",
    "    \"\"\"\n",
    "    np.random.seed(seed)\n",
    "    \n",
    "    random_idx = np.random.choice(df[col_name].dropna().index, size=n, replace=False)\n",
    "    \n",
    "    return df.loc[random_idx, col_name]"
   ]
  },
  {
   "cell_type": "markdown",
   "metadata": {},
   "source": [
    "## Inicia sua análise a partir daqui"
   ]
  },
  {
   "cell_type": "code",
   "execution_count": 250,
   "metadata": {},
   "outputs": [
    {
     "data": {
      "text/html": [
       "<div>\n",
       "<style scoped>\n",
       "    .dataframe tbody tr th:only-of-type {\n",
       "        vertical-align: middle;\n",
       "    }\n",
       "\n",
       "    .dataframe tbody tr th {\n",
       "        vertical-align: top;\n",
       "    }\n",
       "\n",
       "    .dataframe thead th {\n",
       "        text-align: right;\n",
       "    }\n",
       "</style>\n",
       "<table border=\"1\" class=\"dataframe\">\n",
       "  <thead>\n",
       "    <tr style=\"text-align: right;\">\n",
       "      <th></th>\n",
       "      <th>id</th>\n",
       "      <th>name</th>\n",
       "      <th>nationality</th>\n",
       "      <th>sex</th>\n",
       "      <th>dob</th>\n",
       "      <th>height</th>\n",
       "      <th>weight</th>\n",
       "      <th>sport</th>\n",
       "      <th>gold</th>\n",
       "      <th>silver</th>\n",
       "      <th>bronze</th>\n",
       "    </tr>\n",
       "  </thead>\n",
       "  <tbody>\n",
       "    <tr>\n",
       "      <th>0</th>\n",
       "      <td>736041664</td>\n",
       "      <td>A Jesus Garcia</td>\n",
       "      <td>ESP</td>\n",
       "      <td>male</td>\n",
       "      <td>10/17/69</td>\n",
       "      <td>1.72</td>\n",
       "      <td>64.0</td>\n",
       "      <td>athletics</td>\n",
       "      <td>0</td>\n",
       "      <td>0</td>\n",
       "      <td>0</td>\n",
       "    </tr>\n",
       "    <tr>\n",
       "      <th>1</th>\n",
       "      <td>532037425</td>\n",
       "      <td>A Lam Shin</td>\n",
       "      <td>KOR</td>\n",
       "      <td>female</td>\n",
       "      <td>9/23/86</td>\n",
       "      <td>1.68</td>\n",
       "      <td>56.0</td>\n",
       "      <td>fencing</td>\n",
       "      <td>0</td>\n",
       "      <td>0</td>\n",
       "      <td>0</td>\n",
       "    </tr>\n",
       "    <tr>\n",
       "      <th>2</th>\n",
       "      <td>435962603</td>\n",
       "      <td>Aaron Brown</td>\n",
       "      <td>CAN</td>\n",
       "      <td>male</td>\n",
       "      <td>5/27/92</td>\n",
       "      <td>1.98</td>\n",
       "      <td>79.0</td>\n",
       "      <td>athletics</td>\n",
       "      <td>0</td>\n",
       "      <td>0</td>\n",
       "      <td>1</td>\n",
       "    </tr>\n",
       "    <tr>\n",
       "      <th>3</th>\n",
       "      <td>521041435</td>\n",
       "      <td>Aaron Cook</td>\n",
       "      <td>MDA</td>\n",
       "      <td>male</td>\n",
       "      <td>1/2/91</td>\n",
       "      <td>1.83</td>\n",
       "      <td>80.0</td>\n",
       "      <td>taekwondo</td>\n",
       "      <td>0</td>\n",
       "      <td>0</td>\n",
       "      <td>0</td>\n",
       "    </tr>\n",
       "    <tr>\n",
       "      <th>4</th>\n",
       "      <td>33922579</td>\n",
       "      <td>Aaron Gate</td>\n",
       "      <td>NZL</td>\n",
       "      <td>male</td>\n",
       "      <td>11/26/90</td>\n",
       "      <td>1.81</td>\n",
       "      <td>71.0</td>\n",
       "      <td>cycling</td>\n",
       "      <td>0</td>\n",
       "      <td>0</td>\n",
       "      <td>0</td>\n",
       "    </tr>\n",
       "  </tbody>\n",
       "</table>\n",
       "</div>"
      ],
      "text/plain": [
       "          id            name nationality     sex       dob  height  weight  \\\n",
       "0  736041664  A Jesus Garcia         ESP    male  10/17/69    1.72    64.0   \n",
       "1  532037425      A Lam Shin         KOR  female   9/23/86    1.68    56.0   \n",
       "2  435962603     Aaron Brown         CAN    male   5/27/92    1.98    79.0   \n",
       "3  521041435      Aaron Cook         MDA    male    1/2/91    1.83    80.0   \n",
       "4   33922579      Aaron Gate         NZL    male  11/26/90    1.81    71.0   \n",
       "\n",
       "       sport  gold  silver  bronze  \n",
       "0  athletics     0       0       0  \n",
       "1    fencing     0       0       0  \n",
       "2  athletics     0       0       1  \n",
       "3  taekwondo     0       0       0  \n",
       "4    cycling     0       0       0  "
      ]
     },
     "execution_count": 250,
     "metadata": {},
     "output_type": "execute_result"
    }
   ],
   "source": [
    "# Sua análise começa aqui.\n",
    "athletes.head()"
   ]
  },
  {
   "cell_type": "markdown",
   "metadata": {},
   "source": [
    "## Questão 1\n",
    "\n",
    "Considerando uma amostra de tamanho 3000 da coluna `height` obtida com a função `get_sample()`, execute o teste de normalidade de Shapiro-Wilk com a função `scipy.stats.shapiro()`. Podemos afirmar que as alturas são normalmente distribuídas com base nesse teste (ao nível de significância de 5%)? Responda com um boolean (`True` ou `False`)."
   ]
  },
  {
   "cell_type": "code",
   "execution_count": 251,
   "metadata": {},
   "outputs": [],
   "source": [
    "def q1():\n",
    "    # Criando uma variavel apenas com a coluna height\n",
    "    height = athletes['height']\n",
    "    \n",
    "    # Eliminando os NaN da coluna\n",
    "    height = height.dropna()\n",
    "    \n",
    "    # Estipulando um valor fixo de semente para numeros aleatorios\n",
    "    np.random.seed(seed=20)\n",
    "    \n",
    "    # Salvando em outra variavel uma amostra de 3000 elementos da variavel height\n",
    "    sampled_height = height.sample(n = 3000)\n",
    "    \n",
    "    # Aplicando o teste de normalidade Shapiro Wilk. \n",
    "    Shapiro_Wilk = sct.shapiro(sampled_height)\n",
    "    \n",
    "    # Salvando o p-valor\n",
    "    pvalue = sct.shapiro(sampled_height)[1]\n",
    "    \n",
    "    # Criando uma condição que verifica se as amostras de altura estão normalmente distribuidas considerando um nível de significancia de 5%\n",
    "    if pvalue <= 0.05:\n",
    "        return False\n",
    "    else:\n",
    "        return True\n",
    "    \n",
    "    "
   ]
  },
  {
   "cell_type": "code",
   "execution_count": 252,
   "metadata": {},
   "outputs": [
    {
     "data": {
      "text/plain": [
       "False"
      ]
     },
     "execution_count": 252,
     "metadata": {},
     "output_type": "execute_result"
    }
   ],
   "source": [
    "q1()"
   ]
  },
  {
   "cell_type": "markdown",
   "metadata": {},
   "source": [
    "## Questão 2\n",
    "\n",
    "Repita o mesmo procedimento acima, mas agora utilizando o teste de normalidade de Jarque-Bera através da função `scipy.stats.jarque_bera()`. Agora podemos afirmar que as alturas são normalmente distribuídas (ao nível de significância de 5%)? Responda com um boolean (`True` ou `False`)."
   ]
  },
  {
   "cell_type": "code",
   "execution_count": 253,
   "metadata": {},
   "outputs": [],
   "source": [
    "def q2():\n",
    "    # Criando uma variavel apenas com a coluna height\n",
    "    height = athletes['height']\n",
    "    \n",
    "    # Eliminando os NaN da coluna\n",
    "    height = height.dropna()\n",
    "    \n",
    "    # Estipulando um multiplicador fixo de sementes para numeros aleatorios\n",
    "    np.random.seed(seed=20)\n",
    "    \n",
    "    # Salvando em outra variavel uma amostra de 3000 elementos da variavel height\n",
    "    sampled_height = height.sample(n = 3000)\n",
    "    \n",
    "    # Realizando o teste Jarque-Bera e passando o resultado para outra variável\n",
    "    Jarque_Bera = sct.jarque_bera(sampled_height)\n",
    "    \n",
    "    # Salvando o p-valor\n",
    "    pvalue = sct.jarque_bera(sampled_height)[1]\n",
    "    \n",
    "    # Criando uma condição que verifica se as amostras de altura estão normalmente distribuida considerando um nível de significancia de 5%\n",
    "    if pvalue <= 0.05:\n",
    "        return False\n",
    "    else:\n",
    "        return True"
   ]
  },
  {
   "cell_type": "code",
   "execution_count": 254,
   "metadata": {},
   "outputs": [
    {
     "data": {
      "text/plain": [
       "False"
      ]
     },
     "execution_count": 254,
     "metadata": {},
     "output_type": "execute_result"
    }
   ],
   "source": [
    "q2()"
   ]
  },
  {
   "cell_type": "markdown",
   "metadata": {},
   "source": [
    "## Questão 3\n",
    "\n",
    "Considerando agora uma amostra de tamanho 3000 da coluna `weight` obtida com a função `get_sample()`. Faça o teste de normalidade de D'Agostino-Pearson utilizando a função `scipy.stats.normaltest()`. Podemos afirmar que os pesos vêm de uma distribuição normal ao nível de significância de 5%? Responda com um boolean (`True` ou `False`)."
   ]
  },
  {
   "cell_type": "code",
   "execution_count": 255,
   "metadata": {},
   "outputs": [],
   "source": [
    "def q3():\n",
    "    # Criando uma variavel apenas com a coluna height\n",
    "    weight = athletes['weight']\n",
    "\n",
    "    # Eliminando os NaN da coluna\n",
    "    weight = weight.dropna()\n",
    "    \n",
    "    # Estipulando um multiplicador fixo de sementes para numeros aleatorios\n",
    "    np.random.seed(seed=20)\n",
    "    \n",
    "    # Salvando em outra variavel uma amostra de 3000 elementos da variavel height\n",
    "    sampled_weight = weight.sample(n = 3000)\n",
    "\n",
    "    # Realizando o teste Pearson normaltest\n",
    "    Pearson_test = sct.normaltest(sampled_weight)\n",
    "    \n",
    "    # Salvando o p-valor\n",
    "    pvalue = sct.normaltest(sampled_weight)[1]\n",
    "\n",
    "    # Verificando se os pesos vêm de uma distribuição normal considerando um nível de significancia de 5%\n",
    "    if pvalue <= 0.05:\n",
    "        return False\n",
    "    else:\n",
    "        return True"
   ]
  },
  {
   "cell_type": "code",
   "execution_count": 256,
   "metadata": {},
   "outputs": [
    {
     "data": {
      "text/plain": [
       "False"
      ]
     },
     "execution_count": 256,
     "metadata": {},
     "output_type": "execute_result"
    }
   ],
   "source": [
    "q3()"
   ]
  },
  {
   "cell_type": "markdown",
   "metadata": {},
   "source": [
    "## Questão 4\n",
    "\n",
    "Realize uma transformação logarítmica em na amostra de `weight` da questão 3 e repita o mesmo procedimento. Podemos afirmar a normalidade da variável transformada ao nível de significância de 5%? Responda com um boolean (`True` ou `False`)."
   ]
  },
  {
   "cell_type": "code",
   "execution_count": 333,
   "metadata": {},
   "outputs": [],
   "source": [
    "def q4():\n",
    "    # Criando uma variavel apenas com a coluna height\n",
    "    weight = athletes['weight']\n",
    "\n",
    "    # Eliminando os NaN da coluna\n",
    "    weight = weight.dropna()\n",
    "    \n",
    "    # Salvando em outra variavel uma amostra de 3000 elementos da variavel height\n",
    "    sampled_weight = weight.sample(n = 3000)\n",
    "    \n",
    "    # Realizando a transformação logarítmica da amostra weight\n",
    "    sampled_weight_log = np.log(sampled_weight)\n",
    "\n",
    "    # Realizando o teste Pearson normaltest\n",
    "    Pearson_test_log = sct.normaltest(sampled_weight_log)\n",
    "    \n",
    "    # Salvando o p-valor\n",
    "    Pvalue = sct.normaltest(sampled_weight_log)[1]\n",
    "\n",
    "    # Verificando se os pesos vêm de uma distribuição normal considerando um nível de significancia de 5%\n",
    "    if Pvalue <= 0.05:\n",
    "        return False\n",
    "    else:\n",
    "        return True"
   ]
  },
  {
   "cell_type": "code",
   "execution_count": 258,
   "metadata": {},
   "outputs": [
    {
     "data": {
      "text/plain": [
       "False"
      ]
     },
     "execution_count": 258,
     "metadata": {},
     "output_type": "execute_result"
    }
   ],
   "source": [
    "q4()"
   ]
  },
  {
   "cell_type": "markdown",
   "metadata": {},
   "source": [
    "> __Para as questão 5 6 e 7 a seguir considere todos testes efetuados ao nível de significância de 5%__."
   ]
  },
  {
   "cell_type": "markdown",
   "metadata": {},
   "source": [
    "## Questão 5\n",
    "\n",
    "Obtenha todos atletas brasileiros, norte-americanos e canadenses em `DataFrame`s chamados `bra`, `usa` e `can`,respectivamente. Realize um teste de hipóteses para comparação das médias das alturas (`height`) para amostras independentes e variâncias diferentes com a função `scipy.stats.ttest_ind()` entre `bra` e `usa`. Podemos afirmar que as médias são estatisticamente iguais? Responda com um boolean (`True` ou `False`)."
   ]
  },
  {
   "cell_type": "code",
   "execution_count": 259,
   "metadata": {},
   "outputs": [],
   "source": [
    "def q5():\n",
    "   # Separando as variaveis\n",
    "    bra = athletes[(athletes.nationality == 'BRA')]\n",
    "    usa = athletes[(athletes.nationality == 'USA')]\n",
    "\n",
    "    # Calculando media e desvio padrao de bra e usa\n",
    "    bra_mean = bra.height.mean()\n",
    "    usa_mean = usa.height.mean()\n",
    "    bra_std = bra.height.std()\n",
    "    usa_std = usa.height.std()\n",
    "    \n",
    "    # Estipulando um valor fixo de semente para numeros aleatorios\n",
    "    np.random.seed(seed=20)\n",
    "\n",
    "    # Realizando o ttest para comparar médias\n",
    "    rvs_bra = sct.norm.rvs(loc=bra_mean,scale=bra_std,size=500)\n",
    "    rvs_usa = sct.norm.rvs(loc=usa_mean,scale=usa_std,size=500)\n",
    "    sct.ttest_ind(rvs_bra,rvs_usa, equal_var= False)\n",
    "    \n",
    "    # Salvando o p-valor\n",
    "    pvalue = sct.ttest_ind(rvs_bra,rvs_usa, equal_var= False)[1]  \n",
    "    \n",
    "    # Verificando se as médias são estatisticamente iguais\n",
    "    if pvalue <= 0.05:\n",
    "         return False\n",
    "    else:\n",
    "        return True"
   ]
  },
  {
   "cell_type": "code",
   "execution_count": 260,
   "metadata": {},
   "outputs": [
    {
     "data": {
      "text/plain": [
       "False"
      ]
     },
     "execution_count": 260,
     "metadata": {},
     "output_type": "execute_result"
    }
   ],
   "source": [
    "q5()"
   ]
  },
  {
   "cell_type": "markdown",
   "metadata": {},
   "source": [
    "## Questão 6\n",
    "\n",
    "Repita o procedimento da questão 5, mas agora entre as alturas de `bra` e `can`. Podemos afimar agora que as médias são estatisticamente iguais? Reponda com um boolean (`True` ou `False`)."
   ]
  },
  {
   "cell_type": "code",
   "execution_count": 261,
   "metadata": {},
   "outputs": [],
   "source": [
    "def q6():\n",
    "    # Separando as variaveis\n",
    "    bra = athletes[(athletes.nationality == 'BRA')]\n",
    "    can = athletes[(athletes.nationality == 'CAN')]\n",
    "\n",
    "    # Calculando media e desvio padrao de bra e can\n",
    "    bra_mean = bra.height.mean()\n",
    "    can_mean = can.height.mean()\n",
    "    bra_std = bra.height.std()\n",
    "    can_std = can.height.std()\n",
    "    \n",
    "    # Estipulando um valor fixo de semente para numeros aleatorios\n",
    "    np.random.seed(seed=20)\n",
    "\n",
    "    # Realizando o ttest para comparar médias\n",
    "    rvs_bra = sct.norm.rvs(loc=bra_mean,scale=bra_std,size=500)\n",
    "    rvs_can = sct.norm.rvs(loc=can_mean,scale=can_std,size=500)\n",
    "    sct.ttest_ind(rvs_bra,rvs_can, equal_var= False)\n",
    "    \n",
    "    # Salvando o p-valor\n",
    "    pvalue = sct.ttest_ind(rvs_bra,rvs_can, equal_var= False)[1]\n",
    "\n",
    "    # Verificando se as médias são estatisticamente iguais\n",
    "    if pvalue <= 0.05:\n",
    "        return False\n",
    "    else:\n",
    "        return True "
   ]
  },
  {
   "cell_type": "code",
   "execution_count": 262,
   "metadata": {},
   "outputs": [
    {
     "data": {
      "text/plain": [
       "True"
      ]
     },
     "execution_count": 262,
     "metadata": {},
     "output_type": "execute_result"
    }
   ],
   "source": [
    "q6()"
   ]
  },
  {
   "cell_type": "markdown",
   "metadata": {},
   "source": [
    "## Questão 7\n",
    "\n",
    "Repita o procedimento da questão 6, mas agora entre as alturas de `usa` e `can`. Qual o valor do p-valor retornado? Responda como um único escalar arredondado para oito casas decimais."
   ]
  },
  {
   "cell_type": "code",
   "execution_count": 326,
   "metadata": {},
   "outputs": [],
   "source": [
    "def q7():\n",
    "    # Separando as variaveis\n",
    "    usa = athletes[(athletes.nationality == 'USA')]\n",
    "    can = athletes[(athletes.nationality == 'CAN')]\n",
    "\n",
    "    # Calculando direto o p-valor\n",
    "    pvalue = sct.ttest_ind(usa[\"height\"], can[\"height\"], equal_var=False, nan_policy=\"omit\")[1]\n",
    "    pvalue = float(pvalue)\n",
    "    return round(pvalue,8)\n"
   ]
  },
  {
   "cell_type": "code",
   "execution_count": 327,
   "metadata": {},
   "outputs": [
    {
     "data": {
      "text/plain": [
       "0.00046601"
      ]
     },
     "execution_count": 327,
     "metadata": {},
     "output_type": "execute_result"
    }
   ],
   "source": [
    "q7()"
   ]
  }
 ],
 "metadata": {
  "kernelspec": {
   "display_name": "Python 3",
   "language": "python",
   "name": "python3"
  },
  "language_info": {
   "codemirror_mode": {
    "name": "ipython",
    "version": 3
   },
   "file_extension": ".py",
   "mimetype": "text/x-python",
   "name": "python",
   "nbconvert_exporter": "python",
   "pygments_lexer": "ipython3",
   "version": "3.7.1"
  }
 },
 "nbformat": 4,
 "nbformat_minor": 2
}
